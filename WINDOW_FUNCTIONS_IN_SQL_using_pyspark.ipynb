{
  "nbformat": 4,
  "nbformat_minor": 0,
  "metadata": {
    "colab": {
      "provenance": [],
      "authorship_tag": "ABX9TyOumMYHQkJg1mkI3B1HOBwl",
      "include_colab_link": true
    },
    "kernelspec": {
      "name": "python3",
      "display_name": "Python 3"
    },
    "language_info": {
      "name": "python"
    }
  },
  "cells": [
    {
      "cell_type": "markdown",
      "metadata": {
        "id": "view-in-github",
        "colab_type": "text"
      },
      "source": [
        "<a href=\"https://colab.research.google.com/github/Nivedha-M/NIVEDHA/blob/master/WINDOW_FUNCTIONS_IN_SQL_using_pyspark.ipynb\" target=\"_parent\"><img src=\"https://colab.research.google.com/assets/colab-badge.svg\" alt=\"Open In Colab\"/></a>"
      ]
    },
    {
      "cell_type": "code",
      "execution_count": 1,
      "metadata": {
        "id": "PiQppl27iX5F"
      },
      "outputs": [],
      "source": [
        "from pyspark.sql import SparkSession\n",
        "from pyspark.sql.types import *\n",
        "from pyspark.sql.functions import *\n",
        "spark = SparkSession.builder.appName('employee').getOrCreate()\n",
        "df = spark.read.csv('employees_few.csv',header=True,inferSchema= True)\n",
        "df = df.withColumn('SALARY',col('SALARY').cast(IntegerType()))\n",
        "df.createOrReplaceTempView('employee_table')\n"
      ]
    },
    {
      "cell_type": "code",
      "source": [
        "#1) MAX SALARY FROM EMPLOYEE TABLE USING WINDOW FUNCTION\n",
        "max_salary = spark.sql('''\n",
        "select *, max(SALARY) over(partition by DEPARTMENT_ID) as max_salary from employee_table\n",
        "''')\n",
        "max_salary.show()\n",
        "\n"
      ],
      "metadata": {
        "colab": {
          "base_uri": "https://localhost:8080/"
        },
        "id": "ugyElpQVizvC",
        "outputId": "7b22d5a0-6d7a-406e-eef8-0b7a4847d577"
      },
      "execution_count": 2,
      "outputs": [
        {
          "output_type": "stream",
          "name": "stdout",
          "text": [
            "+-----------+----------+-------------+------+----------+\n",
            "|EMPLOYEE_ID|FIRST_NAME|DEPARTMENT_ID|SALARY|max_salary|\n",
            "+-----------+----------+-------------+------+----------+\n",
            "|        198|    Donald|        Admin|  2600|      4400|\n",
            "|        199|   Douglas|        Admin|  2600|      4400|\n",
            "|        200|  Jennifer|        Admin|  4400|      4400|\n",
            "|        204|   Hermann|      Finance| 10000|     24000|\n",
            "|        205|   Shelley|      Finance| 12008|     24000|\n",
            "|        206|   William|      Finance|  8300|     24000|\n",
            "|        100|    Steven|      Finance| 24000|     24000|\n",
            "|        101|     Neena|           HR| 17000|     17000|\n",
            "|        102|       Lex|           HR| 17000|     17000|\n",
            "|        103| Alexander|           HR|  9000|     17000|\n",
            "|        104|     Bruce|           HR|  6000|     17000|\n",
            "|        201|   Michael|           IT| 13000|     13000|\n",
            "|        202|       Pat|           IT|  6000|     13000|\n",
            "|        203|     Susan|           IT|  6500|     13000|\n",
            "+-----------+----------+-------------+------+----------+\n",
            "\n"
          ]
        }
      ]
    },
    {
      "cell_type": "code",
      "source": [
        "\n",
        "#ROW_NUMBER FUNC FOR EMP_TABLE\n",
        "rw_num = spark.sql('''\n",
        "select *,\n",
        "row_number() over(partition by DEPARTMENT_ID order by SALARY) as rw_num from employee_table\n",
        "''')\n",
        "rw_num.show()"
      ],
      "metadata": {
        "colab": {
          "base_uri": "https://localhost:8080/"
        },
        "id": "r1uHw1bvjGhO",
        "outputId": "aad209b2-0c04-41cb-c86e-8c5d6d08706a"
      },
      "execution_count": 3,
      "outputs": [
        {
          "output_type": "stream",
          "name": "stdout",
          "text": [
            "+-----------+----------+-------------+------+------+\n",
            "|EMPLOYEE_ID|FIRST_NAME|DEPARTMENT_ID|SALARY|rw_num|\n",
            "+-----------+----------+-------------+------+------+\n",
            "|        198|    Donald|        Admin|  2600|     1|\n",
            "|        199|   Douglas|        Admin|  2600|     2|\n",
            "|        200|  Jennifer|        Admin|  4400|     3|\n",
            "|        206|   William|      Finance|  8300|     1|\n",
            "|        204|   Hermann|      Finance| 10000|     2|\n",
            "|        205|   Shelley|      Finance| 12008|     3|\n",
            "|        100|    Steven|      Finance| 24000|     4|\n",
            "|        104|     Bruce|           HR|  6000|     1|\n",
            "|        103| Alexander|           HR|  9000|     2|\n",
            "|        101|     Neena|           HR| 17000|     3|\n",
            "|        102|       Lex|           HR| 17000|     4|\n",
            "|        202|       Pat|           IT|  6000|     1|\n",
            "|        203|     Susan|           IT|  6500|     2|\n",
            "|        201|   Michael|           IT| 13000|     3|\n",
            "+-----------+----------+-------------+------+------+\n",
            "\n"
          ]
        }
      ]
    },
    {
      "cell_type": "code",
      "source": [
        "\n",
        "#RANK and DENSE RANK FUNC FOR EMP_TABLE\n",
        "rn_func = spark.sql('''\n",
        "select *,\n",
        "rank() over(partition by DEPARTMENT_ID order by SALARY)as rank_func,\n",
        "dense_rank() over(partition by DEPARTMENT_ID order by SALARY) as dense_func\n",
        "from employee_table\n",
        "''')\n",
        "rn_func.show()"
      ],
      "metadata": {
        "colab": {
          "base_uri": "https://localhost:8080/"
        },
        "id": "w76qPoYHjK4O",
        "outputId": "2e5b27ae-979d-49d6-e456-9decfe2d77f3"
      },
      "execution_count": 4,
      "outputs": [
        {
          "output_type": "stream",
          "name": "stdout",
          "text": [
            "+-----------+----------+-------------+------+---------+----------+\n",
            "|EMPLOYEE_ID|FIRST_NAME|DEPARTMENT_ID|SALARY|rank_func|dense_func|\n",
            "+-----------+----------+-------------+------+---------+----------+\n",
            "|        198|    Donald|        Admin|  2600|        1|         1|\n",
            "|        199|   Douglas|        Admin|  2600|        1|         1|\n",
            "|        200|  Jennifer|        Admin|  4400|        3|         2|\n",
            "|        206|   William|      Finance|  8300|        1|         1|\n",
            "|        204|   Hermann|      Finance| 10000|        2|         2|\n",
            "|        205|   Shelley|      Finance| 12008|        3|         3|\n",
            "|        100|    Steven|      Finance| 24000|        4|         4|\n",
            "|        104|     Bruce|           HR|  6000|        1|         1|\n",
            "|        103| Alexander|           HR|  9000|        2|         2|\n",
            "|        101|     Neena|           HR| 17000|        3|         3|\n",
            "|        102|       Lex|           HR| 17000|        3|         3|\n",
            "|        202|       Pat|           IT|  6000|        1|         1|\n",
            "|        203|     Susan|           IT|  6500|        2|         2|\n",
            "|        201|   Michael|           IT| 13000|        3|         3|\n",
            "+-----------+----------+-------------+------+---------+----------+\n",
            "\n"
          ]
        }
      ]
    },
    {
      "cell_type": "code",
      "source": [
        "#SCENARIO BASED QUESTIONS\n",
        "\n",
        "#FETCH first 2 EMPLOYEES FROM EACH DPT TO JOIN THE COMPANY\n",
        "#Assume least employee_id is joined prior than the previous emp id\n",
        "\n",
        "fetch_frst_2_emp = spark.sql(\n",
        "'''\n",
        "select * from(\n",
        "  select e.*,\n",
        "  row_number() over(partition by DEPARTMENT_ID order by EMPLOYEE_ID) as rw_num from employee_table e) x\n",
        "where x.rw_num<3\n",
        "\n",
        "'''\n",
        ")\n",
        "fetch_frst_2_emp.show()"
      ],
      "metadata": {
        "colab": {
          "base_uri": "https://localhost:8080/"
        },
        "id": "aP-SVwjTjOdN",
        "outputId": "9a221cc6-c53a-41ce-f15f-45df979db31b"
      },
      "execution_count": 6,
      "outputs": [
        {
          "output_type": "stream",
          "name": "stdout",
          "text": [
            "+-----------+----------+-------------+------+------+\n",
            "|EMPLOYEE_ID|FIRST_NAME|DEPARTMENT_ID|SALARY|rw_num|\n",
            "+-----------+----------+-------------+------+------+\n",
            "|        198|    Donald|        Admin|  2600|     1|\n",
            "|        199|   Douglas|        Admin|  2600|     2|\n",
            "|        100|    Steven|      Finance| 24000|     1|\n",
            "|        204|   Hermann|      Finance| 10000|     2|\n",
            "|        101|     Neena|           HR| 17000|     1|\n",
            "|        102|       Lex|           HR| 17000|     2|\n",
            "|        201|   Michael|           IT| 13000|     1|\n",
            "|        202|       Pat|           IT|  6000|     2|\n",
            "+-----------+----------+-------------+------+------+\n",
            "\n"
          ]
        }
      ]
    },
    {
      "cell_type": "code",
      "source": [
        "\n",
        "#FETCH top 3 employees in each dpt earning max salary\n",
        "top_3_max_sal = spark.sql(\n",
        "'''\n",
        "select * from(\n",
        "  select *,\n",
        "  rank() over(partition by DEPARTMENT_ID order by SALARY desc) as rnk from employee_table) x\n",
        "where x.rnk<4\n",
        "\n",
        "''')\n",
        "top_3_max_sal.show()"
      ],
      "metadata": {
        "colab": {
          "base_uri": "https://localhost:8080/"
        },
        "id": "EXk7rNr_jVwl",
        "outputId": "70d368cd-380f-4e32-fc1d-59e3074216c6"
      },
      "execution_count": 7,
      "outputs": [
        {
          "output_type": "stream",
          "name": "stdout",
          "text": [
            "+-----------+----------+-------------+------+---+\n",
            "|EMPLOYEE_ID|FIRST_NAME|DEPARTMENT_ID|SALARY|rnk|\n",
            "+-----------+----------+-------------+------+---+\n",
            "|        200|  Jennifer|        Admin|  4400|  1|\n",
            "|        198|    Donald|        Admin|  2600|  2|\n",
            "|        199|   Douglas|        Admin|  2600|  2|\n",
            "|        100|    Steven|      Finance| 24000|  1|\n",
            "|        205|   Shelley|      Finance| 12008|  2|\n",
            "|        204|   Hermann|      Finance| 10000|  3|\n",
            "|        101|     Neena|           HR| 17000|  1|\n",
            "|        102|       Lex|           HR| 17000|  1|\n",
            "|        103| Alexander|           HR|  9000|  3|\n",
            "|        201|   Michael|           IT| 13000|  1|\n",
            "|        203|     Susan|           IT|  6500|  2|\n",
            "|        202|       Pat|           IT|  6000|  3|\n",
            "+-----------+----------+-------------+------+---+\n",
            "\n"
          ]
        }
      ]
    },
    {
      "cell_type": "code",
      "source": [
        "\n",
        "#FETCH A QUERY TO DISPLAY IF SALARY OF AN EMPLOYEE IS HIGHER OR LOWER OR EQUAL TO PREVIOUS EMPLOYEE\n",
        "salary_high_lower = spark.sql('''\n",
        "select * ,\n",
        "case when(x.SALARY > x.previous_salary) THEN \"Higher\"\n",
        "     when(x.SALARY < x.previous_salary) THEN \"lower\"\n",
        "     when(x.previous_salary is Null) THEN \"No previous employee\"\n",
        "     else \"Equal\" end as salary_comparison\n",
        "from(\n",
        "  select *,\n",
        "  lag(SALARY) OVER(PARTITION BY DEPARTMENT_ID order by EMPLOYEE_ID) as previous_salary from employee_table) x\n",
        "\n",
        "''')\n",
        "\n",
        "salary_high_lower.show()\n"
      ],
      "metadata": {
        "colab": {
          "base_uri": "https://localhost:8080/"
        },
        "id": "ZC2sLxDHjafZ",
        "outputId": "d2583939-cdc3-45b6-8c24-8611fdc816e7"
      },
      "execution_count": 8,
      "outputs": [
        {
          "output_type": "stream",
          "name": "stdout",
          "text": [
            "+-----------+----------+-------------+------+---------------+--------------------+\n",
            "|EMPLOYEE_ID|FIRST_NAME|DEPARTMENT_ID|SALARY|previous_salary|   salary_comparison|\n",
            "+-----------+----------+-------------+------+---------------+--------------------+\n",
            "|        198|    Donald|        Admin|  2600|           NULL|No previous employee|\n",
            "|        199|   Douglas|        Admin|  2600|           2600|               Equal|\n",
            "|        200|  Jennifer|        Admin|  4400|           2600|              Higher|\n",
            "|        100|    Steven|      Finance| 24000|           NULL|No previous employee|\n",
            "|        204|   Hermann|      Finance| 10000|          24000|               lower|\n",
            "|        205|   Shelley|      Finance| 12008|          10000|              Higher|\n",
            "|        206|   William|      Finance|  8300|          12008|               lower|\n",
            "|        101|     Neena|           HR| 17000|           NULL|No previous employee|\n",
            "|        102|       Lex|           HR| 17000|          17000|               Equal|\n",
            "|        103| Alexander|           HR|  9000|          17000|               lower|\n",
            "|        104|     Bruce|           HR|  6000|           9000|               lower|\n",
            "|        201|   Michael|           IT| 13000|           NULL|No previous employee|\n",
            "|        202|       Pat|           IT|  6000|          13000|               lower|\n",
            "|        203|     Susan|           IT|  6500|           6000|              Higher|\n",
            "+-----------+----------+-------------+------+---------------+--------------------+\n",
            "\n"
          ]
        }
      ]
    },
    {
      "cell_type": "code",
      "source": [],
      "metadata": {
        "id": "LzGjUMybjddQ"
      },
      "execution_count": null,
      "outputs": []
    }
  ]
}